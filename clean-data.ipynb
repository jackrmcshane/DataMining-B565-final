{
 "cells": [
  {
   "cell_type": "code",
   "execution_count": 1,
   "id": "3ff61de3",
   "metadata": {},
   "outputs": [],
   "source": [
    "import os\n",
    "import numpy as np\n",
    "import pandas as pd\n",
    "from sklearn.model_selection import train_test_split"
   ]
  },
  {
   "cell_type": "code",
   "execution_count": 2,
   "id": "ee3006d0",
   "metadata": {},
   "outputs": [],
   "source": [
    "def import_data(relative_path):\n",
    "    working_dir = os.path.dirname('clean-data.ipynb')\n",
    "    path_to_file = os.path.join(working_dir, relative_path)\n",
    "    \n",
    "    return pd.read_csv(path_to_file)"
   ]
  },
  {
   "cell_type": "code",
   "execution_count": 3,
   "id": "e0c6c2e7",
   "metadata": {},
   "outputs": [],
   "source": [
    "DATAPATH = 'data-BerkeleyCA/pv_data.csv'\n",
    "EXPORT_DIR = 'data-CLEAN'\n",
    "\n",
    "pd.set_option('display.max_columns', None)\n",
    "pd.set_option('display.expand_frame_repr', False)"
   ]
  },
  {
   "cell_type": "code",
   "execution_count": 4,
   "id": "18f30ad8",
   "metadata": {},
   "outputs": [],
   "source": [
    "rawdata = import_data(DATAPATH)"
   ]
  },
  {
   "cell_type": "code",
   "execution_count": 5,
   "id": "b45806bf",
   "metadata": {},
   "outputs": [
    {
     "data": {
      "text/plain": [
       "2"
      ]
     },
     "execution_count": 5,
     "metadata": {},
     "output_type": "execute_result"
    }
   ],
   "source": [
    "rawdata.ndim"
   ]
  },
  {
   "cell_type": "code",
   "execution_count": 6,
   "id": "3d712a19",
   "metadata": {},
   "outputs": [
    {
     "data": {
      "text/plain": [
       "(2920, 16)"
      ]
     },
     "execution_count": 6,
     "metadata": {},
     "output_type": "execute_result"
    }
   ],
   "source": [
    "rawdata.shape"
   ]
  },
  {
   "cell_type": "code",
   "execution_count": 7,
   "id": "eabc7c75",
   "metadata": {},
   "outputs": [
    {
     "name": "stdout",
     "output_type": "stream",
     "text": [
      "<class 'pandas.core.frame.DataFrame'>\n",
      "RangeIndex: 2920 entries, 0 to 2919\n",
      "Data columns (total 16 columns):\n",
      " #   Column                                Non-Null Count  Dtype  \n",
      "---  ------                                --------------  -----  \n",
      " 0   Day of Year                           2920 non-null   int64  \n",
      " 1   Year                                  2920 non-null   int64  \n",
      " 2   Month                                 2920 non-null   int64  \n",
      " 3   Day                                   2920 non-null   int64  \n",
      " 4   First Hour of Period                  2920 non-null   int64  \n",
      " 5   Is Daylight                           2920 non-null   bool   \n",
      " 6   Distance to Solar Noon                2920 non-null   float64\n",
      " 7   Average Temperature (Day)             2920 non-null   int64  \n",
      " 8   Average Wind Direction (Day)          2920 non-null   int64  \n",
      " 9   Average Wind Speed (Day)              2920 non-null   float64\n",
      " 10  Sky Cover                             2920 non-null   int64  \n",
      " 11  Visibility                            2920 non-null   float64\n",
      " 12  Relative Humidity                     2920 non-null   int64  \n",
      " 13  Average Wind Speed (Period)           2919 non-null   float64\n",
      " 14  Average Barometric Pressure (Period)  2920 non-null   float64\n",
      " 15  Power Generated                       2920 non-null   int64  \n",
      "dtypes: bool(1), float64(5), int64(10)\n",
      "memory usage: 345.2 KB\n"
     ]
    }
   ],
   "source": [
    "rawdata.info()"
   ]
  },
  {
   "cell_type": "code",
   "execution_count": 8,
   "id": "3b08a289",
   "metadata": {},
   "outputs": [
    {
     "data": {
      "text/plain": [
       "True"
      ]
     },
     "execution_count": 8,
     "metadata": {},
     "output_type": "execute_result"
    }
   ],
   "source": [
    "rawdata.isna().any().any()"
   ]
  },
  {
   "cell_type": "code",
   "execution_count": 9,
   "id": "ebfabcbd",
   "metadata": {},
   "outputs": [
    {
     "data": {
      "text/plain": [
       "1"
      ]
     },
     "execution_count": 9,
     "metadata": {},
     "output_type": "execute_result"
    }
   ],
   "source": [
    "rawdata.isna().sum().sum()"
   ]
  },
  {
   "cell_type": "code",
   "execution_count": 10,
   "id": "c078580c",
   "metadata": {},
   "outputs": [
    {
     "data": {
      "text/plain": [
       "Day of Year                             False\n",
       "Year                                    False\n",
       "Month                                   False\n",
       "Day                                     False\n",
       "First Hour of Period                    False\n",
       "Is Daylight                             False\n",
       "Distance to Solar Noon                  False\n",
       "Average Temperature (Day)               False\n",
       "Average Wind Direction (Day)            False\n",
       "Average Wind Speed (Day)                False\n",
       "Sky Cover                               False\n",
       "Visibility                              False\n",
       "Relative Humidity                       False\n",
       "Average Wind Speed (Period)              True\n",
       "Average Barometric Pressure (Period)    False\n",
       "Power Generated                         False\n",
       "dtype: bool"
      ]
     },
     "execution_count": 10,
     "metadata": {},
     "output_type": "execute_result"
    }
   ],
   "source": [
    "rawdata.isna().any()"
   ]
  },
  {
   "cell_type": "code",
   "execution_count": 11,
   "id": "695d6ae1",
   "metadata": {},
   "outputs": [
    {
     "data": {
      "text/plain": [
       "Int64Index([714], dtype='int64')"
      ]
     },
     "execution_count": 11,
     "metadata": {},
     "output_type": "execute_result"
    }
   ],
   "source": [
    "rawdata.index[rawdata.isna().any(axis=1)]"
   ]
  },
  {
   "cell_type": "code",
   "execution_count": 12,
   "id": "926c30a1",
   "metadata": {},
   "outputs": [
    {
     "data": {
      "text/plain": [
       "Day of Year                                  334\n",
       "Year                                        2008\n",
       "Month                                         11\n",
       "Day                                           29\n",
       "First Hour of Period                           4\n",
       "Is Daylight                                False\n",
       "Distance to Solar Noon                  0.713311\n",
       "Average Temperature (Day)                     57\n",
       "Average Wind Direction (Day)                  12\n",
       "Average Wind Speed (Day)                     2.8\n",
       "Sky Cover                                      4\n",
       "Visibility                                   4.0\n",
       "Relative Humidity                             96\n",
       "Average Wind Speed (Period)                  5.0\n",
       "Average Barometric Pressure (Period)       30.17\n",
       "Power Generated                                0\n",
       "Name: 713, dtype: object"
      ]
     },
     "execution_count": 12,
     "metadata": {},
     "output_type": "execute_result"
    }
   ],
   "source": [
    "rawdata.loc[713]"
   ]
  },
  {
   "cell_type": "code",
   "execution_count": 13,
   "id": "19e69695",
   "metadata": {},
   "outputs": [
    {
     "data": {
      "text/plain": [
       "Day of Year                                  334\n",
       "Year                                        2008\n",
       "Month                                         11\n",
       "Day                                           29\n",
       "First Hour of Period                           7\n",
       "Is Daylight                                 True\n",
       "Distance to Solar Noon                  0.406143\n",
       "Average Temperature (Day)                     57\n",
       "Average Wind Direction (Day)                  12\n",
       "Average Wind Speed (Day)                     2.8\n",
       "Sky Cover                                      2\n",
       "Visibility                                   4.0\n",
       "Relative Humidity                             96\n",
       "Average Wind Speed (Period)                  NaN\n",
       "Average Barometric Pressure (Period)       30.16\n",
       "Power Generated                              159\n",
       "Name: 714, dtype: object"
      ]
     },
     "execution_count": 13,
     "metadata": {},
     "output_type": "execute_result"
    }
   ],
   "source": [
    "rawdata.loc[714]"
   ]
  },
  {
   "cell_type": "code",
   "execution_count": 14,
   "id": "11bcc5dc",
   "metadata": {},
   "outputs": [
    {
     "data": {
      "text/plain": [
       "Day of Year                                  334\n",
       "Year                                        2008\n",
       "Month                                         11\n",
       "Day                                           29\n",
       "First Hour of Period                          10\n",
       "Is Daylight                                 True\n",
       "Distance to Solar Noon                  0.098976\n",
       "Average Temperature (Day)                     57\n",
       "Average Wind Direction (Day)                  12\n",
       "Average Wind Speed (Day)                     2.8\n",
       "Sky Cover                                      3\n",
       "Visibility                                   7.0\n",
       "Relative Humidity                             80\n",
       "Average Wind Speed (Period)                  8.0\n",
       "Average Barometric Pressure (Period)       30.19\n",
       "Power Generated                             7229\n",
       "Name: 715, dtype: object"
      ]
     },
     "execution_count": 14,
     "metadata": {},
     "output_type": "execute_result"
    }
   ],
   "source": [
    "rawdata.loc[715]"
   ]
  },
  {
   "cell_type": "code",
   "execution_count": 15,
   "id": "0cb88646",
   "metadata": {},
   "outputs": [],
   "source": [
    "mean_wind_speed = (rawdata.loc[713, 'Average Wind Speed (Period)'] + rawdata.loc[715, 'Average Wind Speed (Period)']) / 2\n",
    "rawdata.loc[714, 'Average Wind Speed (Period)'] = mean_wind_speed"
   ]
  },
  {
   "cell_type": "code",
   "execution_count": 16,
   "id": "b45f2576",
   "metadata": {},
   "outputs": [
    {
     "data": {
      "text/plain": [
       "False"
      ]
     },
     "execution_count": 16,
     "metadata": {},
     "output_type": "execute_result"
    }
   ],
   "source": [
    "rawdata.isna().any().any()"
   ]
  },
  {
   "cell_type": "code",
   "execution_count": 17,
   "id": "542ff8df",
   "metadata": {},
   "outputs": [
    {
     "data": {
      "text/plain": [
       "(2920,)"
      ]
     },
     "execution_count": 17,
     "metadata": {},
     "output_type": "execute_result"
    }
   ],
   "source": [
    "y = rawdata['Power Generated']\n",
    "y.shape"
   ]
  },
  {
   "cell_type": "code",
   "execution_count": 18,
   "id": "c593767d",
   "metadata": {},
   "outputs": [
    {
     "data": {
      "text/plain": [
       "(2920, 15)"
      ]
     },
     "execution_count": 18,
     "metadata": {},
     "output_type": "execute_result"
    }
   ],
   "source": [
    "x = rawdata.drop(columns='Power Generated')\n",
    "x.shape"
   ]
  },
  {
   "cell_type": "code",
   "execution_count": 19,
   "id": "90fe5ebd",
   "metadata": {},
   "outputs": [],
   "source": [
    "x_train, x_test, y_train, y_test = train_test_split(x, y, test_size=.2, random_state=42)"
   ]
  },
  {
   "cell_type": "code",
   "execution_count": 20,
   "id": "81b097f4",
   "metadata": {},
   "outputs": [
    {
     "data": {
      "text/html": [
       "<div>\n",
       "<style scoped>\n",
       "    .dataframe tbody tr th:only-of-type {\n",
       "        vertical-align: middle;\n",
       "    }\n",
       "\n",
       "    .dataframe tbody tr th {\n",
       "        vertical-align: top;\n",
       "    }\n",
       "\n",
       "    .dataframe thead th {\n",
       "        text-align: right;\n",
       "    }\n",
       "</style>\n",
       "<table border=\"1\" class=\"dataframe\">\n",
       "  <thead>\n",
       "    <tr style=\"text-align: right;\">\n",
       "      <th></th>\n",
       "      <th>Day of Year</th>\n",
       "      <th>Year</th>\n",
       "      <th>Month</th>\n",
       "      <th>Day</th>\n",
       "      <th>First Hour of Period</th>\n",
       "      <th>Is Daylight</th>\n",
       "      <th>Distance to Solar Noon</th>\n",
       "      <th>Average Temperature (Day)</th>\n",
       "      <th>Average Wind Direction (Day)</th>\n",
       "      <th>Average Wind Speed (Day)</th>\n",
       "      <th>Sky Cover</th>\n",
       "      <th>Visibility</th>\n",
       "      <th>Relative Humidity</th>\n",
       "      <th>Average Wind Speed (Period)</th>\n",
       "      <th>Average Barometric Pressure (Period)</th>\n",
       "    </tr>\n",
       "  </thead>\n",
       "  <tbody>\n",
       "    <tr>\n",
       "      <th>2651</th>\n",
       "      <td>210</td>\n",
       "      <td>2009</td>\n",
       "      <td>7</td>\n",
       "      <td>29</td>\n",
       "      <td>10</td>\n",
       "      <td>True</td>\n",
       "      <td>0.160000</td>\n",
       "      <td>65</td>\n",
       "      <td>27</td>\n",
       "      <td>13.6</td>\n",
       "      <td>1</td>\n",
       "      <td>10.0</td>\n",
       "      <td>68</td>\n",
       "      <td>14.0</td>\n",
       "      <td>29.88</td>\n",
       "    </tr>\n",
       "    <tr>\n",
       "      <th>1709</th>\n",
       "      <td>92</td>\n",
       "      <td>2009</td>\n",
       "      <td>4</td>\n",
       "      <td>2</td>\n",
       "      <td>16</td>\n",
       "      <td>True</td>\n",
       "      <td>0.298292</td>\n",
       "      <td>54</td>\n",
       "      <td>27</td>\n",
       "      <td>25.1</td>\n",
       "      <td>2</td>\n",
       "      <td>10.0</td>\n",
       "      <td>64</td>\n",
       "      <td>38.0</td>\n",
       "      <td>29.89</td>\n",
       "    </tr>\n",
       "    <tr>\n",
       "      <th>869</th>\n",
       "      <td>353</td>\n",
       "      <td>2008</td>\n",
       "      <td>12</td>\n",
       "      <td>18</td>\n",
       "      <td>16</td>\n",
       "      <td>True</td>\n",
       "      <td>0.511344</td>\n",
       "      <td>47</td>\n",
       "      <td>20</td>\n",
       "      <td>8.7</td>\n",
       "      <td>4</td>\n",
       "      <td>10.0</td>\n",
       "      <td>69</td>\n",
       "      <td>11.0</td>\n",
       "      <td>30.14</td>\n",
       "    </tr>\n",
       "    <tr>\n",
       "      <th>2355</th>\n",
       "      <td>173</td>\n",
       "      <td>2009</td>\n",
       "      <td>6</td>\n",
       "      <td>22</td>\n",
       "      <td>10</td>\n",
       "      <td>True</td>\n",
       "      <td>0.148816</td>\n",
       "      <td>67</td>\n",
       "      <td>29</td>\n",
       "      <td>10.7</td>\n",
       "      <td>0</td>\n",
       "      <td>10.0</td>\n",
       "      <td>70</td>\n",
       "      <td>5.0</td>\n",
       "      <td>29.83</td>\n",
       "    </tr>\n",
       "    <tr>\n",
       "      <th>2915</th>\n",
       "      <td>243</td>\n",
       "      <td>2009</td>\n",
       "      <td>8</td>\n",
       "      <td>31</td>\n",
       "      <td>10</td>\n",
       "      <td>True</td>\n",
       "      <td>0.166453</td>\n",
       "      <td>63</td>\n",
       "      <td>27</td>\n",
       "      <td>13.9</td>\n",
       "      <td>4</td>\n",
       "      <td>10.0</td>\n",
       "      <td>75</td>\n",
       "      <td>10.0</td>\n",
       "      <td>29.93</td>\n",
       "    </tr>\n",
       "  </tbody>\n",
       "</table>\n",
       "</div>"
      ],
      "text/plain": [
       "      Day of Year  Year  Month  Day  First Hour of Period  Is Daylight  Distance to Solar Noon  Average Temperature (Day)  Average Wind Direction (Day)  Average Wind Speed (Day)  Sky Cover  Visibility  Relative Humidity  Average Wind Speed (Period)  Average Barometric Pressure (Period)\n",
       "2651          210  2009      7   29                    10         True                0.160000                         65                            27                      13.6          1        10.0                 68                         14.0                                 29.88\n",
       "1709           92  2009      4    2                    16         True                0.298292                         54                            27                      25.1          2        10.0                 64                         38.0                                 29.89\n",
       "869           353  2008     12   18                    16         True                0.511344                         47                            20                       8.7          4        10.0                 69                         11.0                                 30.14\n",
       "2355          173  2009      6   22                    10         True                0.148816                         67                            29                      10.7          0        10.0                 70                          5.0                                 29.83\n",
       "2915          243  2009      8   31                    10         True                0.166453                         63                            27                      13.9          4        10.0                 75                         10.0                                 29.93"
      ]
     },
     "execution_count": 20,
     "metadata": {},
     "output_type": "execute_result"
    }
   ],
   "source": [
    "x_train.head()"
   ]
  },
  {
   "cell_type": "code",
   "execution_count": 21,
   "id": "cdf86861",
   "metadata": {},
   "outputs": [
    {
     "data": {
      "text/plain": [
       "2651    10750\n",
       "1709    18575\n",
       "869      3407\n",
       "2355    29010\n",
       "2915     6995\n",
       "Name: Power Generated, dtype: int64"
      ]
     },
     "execution_count": 21,
     "metadata": {},
     "output_type": "execute_result"
    }
   ],
   "source": [
    "y_train.head()"
   ]
  },
  {
   "cell_type": "code",
   "execution_count": 22,
   "id": "638acea4",
   "metadata": {},
   "outputs": [
    {
     "data": {
      "text/html": [
       "<div>\n",
       "<style scoped>\n",
       "    .dataframe tbody tr th:only-of-type {\n",
       "        vertical-align: middle;\n",
       "    }\n",
       "\n",
       "    .dataframe tbody tr th {\n",
       "        vertical-align: top;\n",
       "    }\n",
       "\n",
       "    .dataframe thead th {\n",
       "        text-align: right;\n",
       "    }\n",
       "</style>\n",
       "<table border=\"1\" class=\"dataframe\">\n",
       "  <thead>\n",
       "    <tr style=\"text-align: right;\">\n",
       "      <th></th>\n",
       "      <th>Day of Year</th>\n",
       "      <th>Year</th>\n",
       "      <th>Month</th>\n",
       "      <th>Day</th>\n",
       "      <th>First Hour of Period</th>\n",
       "      <th>Is Daylight</th>\n",
       "      <th>Distance to Solar Noon</th>\n",
       "      <th>Average Temperature (Day)</th>\n",
       "      <th>Average Wind Direction (Day)</th>\n",
       "      <th>Average Wind Speed (Day)</th>\n",
       "      <th>Sky Cover</th>\n",
       "      <th>Visibility</th>\n",
       "      <th>Relative Humidity</th>\n",
       "      <th>Average Wind Speed (Period)</th>\n",
       "      <th>Average Barometric Pressure (Period)</th>\n",
       "    </tr>\n",
       "  </thead>\n",
       "  <tbody>\n",
       "    <tr>\n",
       "      <th>2437</th>\n",
       "      <td>183</td>\n",
       "      <td>2009</td>\n",
       "      <td>7</td>\n",
       "      <td>2</td>\n",
       "      <td>16</td>\n",
       "      <td>True</td>\n",
       "      <td>0.255946</td>\n",
       "      <td>64</td>\n",
       "      <td>29</td>\n",
       "      <td>12.3</td>\n",
       "      <td>1</td>\n",
       "      <td>10.0</td>\n",
       "      <td>59</td>\n",
       "      <td>21.0</td>\n",
       "      <td>29.86</td>\n",
       "    </tr>\n",
       "    <tr>\n",
       "      <th>2470</th>\n",
       "      <td>187</td>\n",
       "      <td>2009</td>\n",
       "      <td>7</td>\n",
       "      <td>6</td>\n",
       "      <td>19</td>\n",
       "      <td>True</td>\n",
       "      <td>0.459705</td>\n",
       "      <td>62</td>\n",
       "      <td>27</td>\n",
       "      <td>15.8</td>\n",
       "      <td>1</td>\n",
       "      <td>10.0</td>\n",
       "      <td>72</td>\n",
       "      <td>18.0</td>\n",
       "      <td>29.97</td>\n",
       "    </tr>\n",
       "    <tr>\n",
       "      <th>2359</th>\n",
       "      <td>173</td>\n",
       "      <td>2009</td>\n",
       "      <td>6</td>\n",
       "      <td>22</td>\n",
       "      <td>22</td>\n",
       "      <td>False</td>\n",
       "      <td>0.662909</td>\n",
       "      <td>67</td>\n",
       "      <td>29</td>\n",
       "      <td>10.7</td>\n",
       "      <td>0</td>\n",
       "      <td>10.0</td>\n",
       "      <td>72</td>\n",
       "      <td>13.0</td>\n",
       "      <td>29.75</td>\n",
       "    </tr>\n",
       "    <tr>\n",
       "      <th>789</th>\n",
       "      <td>343</td>\n",
       "      <td>2008</td>\n",
       "      <td>12</td>\n",
       "      <td>8</td>\n",
       "      <td>16</td>\n",
       "      <td>True</td>\n",
       "      <td>0.515571</td>\n",
       "      <td>50</td>\n",
       "      <td>33</td>\n",
       "      <td>4.9</td>\n",
       "      <td>2</td>\n",
       "      <td>10.0</td>\n",
       "      <td>71</td>\n",
       "      <td>0.0</td>\n",
       "      <td>30.07</td>\n",
       "    </tr>\n",
       "    <tr>\n",
       "      <th>1642</th>\n",
       "      <td>84</td>\n",
       "      <td>2009</td>\n",
       "      <td>3</td>\n",
       "      <td>25</td>\n",
       "      <td>7</td>\n",
       "      <td>True</td>\n",
       "      <td>0.425876</td>\n",
       "      <td>55</td>\n",
       "      <td>27</td>\n",
       "      <td>16.1</td>\n",
       "      <td>1</td>\n",
       "      <td>10.0</td>\n",
       "      <td>86</td>\n",
       "      <td>5.0</td>\n",
       "      <td>30.16</td>\n",
       "    </tr>\n",
       "  </tbody>\n",
       "</table>\n",
       "</div>"
      ],
      "text/plain": [
       "      Day of Year  Year  Month  Day  First Hour of Period  Is Daylight  Distance to Solar Noon  Average Temperature (Day)  Average Wind Direction (Day)  Average Wind Speed (Day)  Sky Cover  Visibility  Relative Humidity  Average Wind Speed (Period)  Average Barometric Pressure (Period)\n",
       "2437          183  2009      7    2                    16         True                0.255946                         64                            29                      12.3          1        10.0                 59                         21.0                                 29.86\n",
       "2470          187  2009      7    6                    19         True                0.459705                         62                            27                      15.8          1        10.0                 72                         18.0                                 29.97\n",
       "2359          173  2009      6   22                    22        False                0.662909                         67                            29                      10.7          0        10.0                 72                         13.0                                 29.75\n",
       "789           343  2008     12    8                    16         True                0.515571                         50                            33                       4.9          2        10.0                 71                          0.0                                 30.07\n",
       "1642           84  2009      3   25                     7         True                0.425876                         55                            27                      16.1          1        10.0                 86                          5.0                                 30.16"
      ]
     },
     "execution_count": 22,
     "metadata": {},
     "output_type": "execute_result"
    }
   ],
   "source": [
    "x_test.head()"
   ]
  },
  {
   "cell_type": "code",
   "execution_count": 23,
   "id": "ffab36ba",
   "metadata": {},
   "outputs": [
    {
     "data": {
      "text/plain": [
       "2437    21804\n",
       "2470     2065\n",
       "2359        0\n",
       "789      5654\n",
       "1642     3621\n",
       "Name: Power Generated, dtype: int64"
      ]
     },
     "execution_count": 23,
     "metadata": {},
     "output_type": "execute_result"
    }
   ],
   "source": [
    "y_test.head()"
   ]
  },
  {
   "cell_type": "code",
   "execution_count": 24,
   "id": "6048f270",
   "metadata": {},
   "outputs": [
    {
     "data": {
      "text/html": [
       "<div>\n",
       "<style scoped>\n",
       "    .dataframe tbody tr th:only-of-type {\n",
       "        vertical-align: middle;\n",
       "    }\n",
       "\n",
       "    .dataframe tbody tr th {\n",
       "        vertical-align: top;\n",
       "    }\n",
       "\n",
       "    .dataframe thead th {\n",
       "        text-align: right;\n",
       "    }\n",
       "</style>\n",
       "<table border=\"1\" class=\"dataframe\">\n",
       "  <thead>\n",
       "    <tr style=\"text-align: right;\">\n",
       "      <th></th>\n",
       "      <th>Day of Year</th>\n",
       "      <th>Year</th>\n",
       "      <th>Month</th>\n",
       "      <th>Day</th>\n",
       "      <th>First Hour of Period</th>\n",
       "      <th>Is Daylight</th>\n",
       "      <th>Distance to Solar Noon</th>\n",
       "      <th>Average Temperature (Day)</th>\n",
       "      <th>Average Wind Direction (Day)</th>\n",
       "      <th>Average Wind Speed (Day)</th>\n",
       "      <th>Sky Cover</th>\n",
       "      <th>Visibility</th>\n",
       "      <th>Relative Humidity</th>\n",
       "      <th>Average Wind Speed (Period)</th>\n",
       "      <th>Average Barometric Pressure (Period)</th>\n",
       "      <th>Power Generated</th>\n",
       "    </tr>\n",
       "  </thead>\n",
       "  <tbody>\n",
       "    <tr>\n",
       "      <th>2651</th>\n",
       "      <td>210</td>\n",
       "      <td>2009</td>\n",
       "      <td>7</td>\n",
       "      <td>29</td>\n",
       "      <td>10</td>\n",
       "      <td>True</td>\n",
       "      <td>0.160000</td>\n",
       "      <td>65</td>\n",
       "      <td>27</td>\n",
       "      <td>13.6</td>\n",
       "      <td>1</td>\n",
       "      <td>10.0</td>\n",
       "      <td>68</td>\n",
       "      <td>14.0</td>\n",
       "      <td>29.88</td>\n",
       "      <td>10750</td>\n",
       "    </tr>\n",
       "    <tr>\n",
       "      <th>1709</th>\n",
       "      <td>92</td>\n",
       "      <td>2009</td>\n",
       "      <td>4</td>\n",
       "      <td>2</td>\n",
       "      <td>16</td>\n",
       "      <td>True</td>\n",
       "      <td>0.298292</td>\n",
       "      <td>54</td>\n",
       "      <td>27</td>\n",
       "      <td>25.1</td>\n",
       "      <td>2</td>\n",
       "      <td>10.0</td>\n",
       "      <td>64</td>\n",
       "      <td>38.0</td>\n",
       "      <td>29.89</td>\n",
       "      <td>18575</td>\n",
       "    </tr>\n",
       "    <tr>\n",
       "      <th>869</th>\n",
       "      <td>353</td>\n",
       "      <td>2008</td>\n",
       "      <td>12</td>\n",
       "      <td>18</td>\n",
       "      <td>16</td>\n",
       "      <td>True</td>\n",
       "      <td>0.511344</td>\n",
       "      <td>47</td>\n",
       "      <td>20</td>\n",
       "      <td>8.7</td>\n",
       "      <td>4</td>\n",
       "      <td>10.0</td>\n",
       "      <td>69</td>\n",
       "      <td>11.0</td>\n",
       "      <td>30.14</td>\n",
       "      <td>3407</td>\n",
       "    </tr>\n",
       "    <tr>\n",
       "      <th>2355</th>\n",
       "      <td>173</td>\n",
       "      <td>2009</td>\n",
       "      <td>6</td>\n",
       "      <td>22</td>\n",
       "      <td>10</td>\n",
       "      <td>True</td>\n",
       "      <td>0.148816</td>\n",
       "      <td>67</td>\n",
       "      <td>29</td>\n",
       "      <td>10.7</td>\n",
       "      <td>0</td>\n",
       "      <td>10.0</td>\n",
       "      <td>70</td>\n",
       "      <td>5.0</td>\n",
       "      <td>29.83</td>\n",
       "      <td>29010</td>\n",
       "    </tr>\n",
       "    <tr>\n",
       "      <th>2915</th>\n",
       "      <td>243</td>\n",
       "      <td>2009</td>\n",
       "      <td>8</td>\n",
       "      <td>31</td>\n",
       "      <td>10</td>\n",
       "      <td>True</td>\n",
       "      <td>0.166453</td>\n",
       "      <td>63</td>\n",
       "      <td>27</td>\n",
       "      <td>13.9</td>\n",
       "      <td>4</td>\n",
       "      <td>10.0</td>\n",
       "      <td>75</td>\n",
       "      <td>10.0</td>\n",
       "      <td>29.93</td>\n",
       "      <td>6995</td>\n",
       "    </tr>\n",
       "    <tr>\n",
       "      <th>1561</th>\n",
       "      <td>74</td>\n",
       "      <td>2009</td>\n",
       "      <td>3</td>\n",
       "      <td>15</td>\n",
       "      <td>4</td>\n",
       "      <td>False</td>\n",
       "      <td>0.695955</td>\n",
       "      <td>55</td>\n",
       "      <td>18</td>\n",
       "      <td>8.2</td>\n",
       "      <td>4</td>\n",
       "      <td>6.0</td>\n",
       "      <td>93</td>\n",
       "      <td>5.0</td>\n",
       "      <td>30.04</td>\n",
       "      <td>0</td>\n",
       "    </tr>\n",
       "    <tr>\n",
       "      <th>605</th>\n",
       "      <td>320</td>\n",
       "      <td>2008</td>\n",
       "      <td>11</td>\n",
       "      <td>15</td>\n",
       "      <td>16</td>\n",
       "      <td>True</td>\n",
       "      <td>0.504119</td>\n",
       "      <td>69</td>\n",
       "      <td>14</td>\n",
       "      <td>5.0</td>\n",
       "      <td>1</td>\n",
       "      <td>10.0</td>\n",
       "      <td>27</td>\n",
       "      <td>0.0</td>\n",
       "      <td>30.05</td>\n",
       "      <td>6614</td>\n",
       "    </tr>\n",
       "    <tr>\n",
       "      <th>2817</th>\n",
       "      <td>231</td>\n",
       "      <td>2009</td>\n",
       "      <td>8</td>\n",
       "      <td>19</td>\n",
       "      <td>4</td>\n",
       "      <td>False</td>\n",
       "      <td>0.610149</td>\n",
       "      <td>65</td>\n",
       "      <td>30</td>\n",
       "      <td>8.6</td>\n",
       "      <td>4</td>\n",
       "      <td>10.0</td>\n",
       "      <td>87</td>\n",
       "      <td>6.0</td>\n",
       "      <td>29.82</td>\n",
       "      <td>0</td>\n",
       "    </tr>\n",
       "    <tr>\n",
       "      <th>911</th>\n",
       "      <td>358</td>\n",
       "      <td>2008</td>\n",
       "      <td>12</td>\n",
       "      <td>23</td>\n",
       "      <td>22</td>\n",
       "      <td>False</td>\n",
       "      <td>1.136126</td>\n",
       "      <td>47</td>\n",
       "      <td>13</td>\n",
       "      <td>3.6</td>\n",
       "      <td>4</td>\n",
       "      <td>10.0</td>\n",
       "      <td>77</td>\n",
       "      <td>6.0</td>\n",
       "      <td>29.89</td>\n",
       "      <td>0</td>\n",
       "    </tr>\n",
       "    <tr>\n",
       "      <th>1395</th>\n",
       "      <td>53</td>\n",
       "      <td>2009</td>\n",
       "      <td>2</td>\n",
       "      <td>22</td>\n",
       "      <td>10</td>\n",
       "      <td>True</td>\n",
       "      <td>0.124438</td>\n",
       "      <td>56</td>\n",
       "      <td>15</td>\n",
       "      <td>9.4</td>\n",
       "      <td>4</td>\n",
       "      <td>4.0</td>\n",
       "      <td>93</td>\n",
       "      <td>7.0</td>\n",
       "      <td>29.99</td>\n",
       "      <td>133</td>\n",
       "    </tr>\n",
       "  </tbody>\n",
       "</table>\n",
       "</div>"
      ],
      "text/plain": [
       "      Day of Year  Year  Month  Day  First Hour of Period  Is Daylight  Distance to Solar Noon  Average Temperature (Day)  Average Wind Direction (Day)  Average Wind Speed (Day)  Sky Cover  Visibility  Relative Humidity  Average Wind Speed (Period)  Average Barometric Pressure (Period)  Power Generated\n",
       "2651          210  2009      7   29                    10         True                0.160000                         65                            27                      13.6          1        10.0                 68                         14.0                                 29.88            10750\n",
       "1709           92  2009      4    2                    16         True                0.298292                         54                            27                      25.1          2        10.0                 64                         38.0                                 29.89            18575\n",
       "869           353  2008     12   18                    16         True                0.511344                         47                            20                       8.7          4        10.0                 69                         11.0                                 30.14             3407\n",
       "2355          173  2009      6   22                    10         True                0.148816                         67                            29                      10.7          0        10.0                 70                          5.0                                 29.83            29010\n",
       "2915          243  2009      8   31                    10         True                0.166453                         63                            27                      13.9          4        10.0                 75                         10.0                                 29.93             6995\n",
       "1561           74  2009      3   15                     4        False                0.695955                         55                            18                       8.2          4         6.0                 93                          5.0                                 30.04                0\n",
       "605           320  2008     11   15                    16         True                0.504119                         69                            14                       5.0          1        10.0                 27                          0.0                                 30.05             6614\n",
       "2817          231  2009      8   19                     4        False                0.610149                         65                            30                       8.6          4        10.0                 87                          6.0                                 29.82                0\n",
       "911           358  2008     12   23                    22        False                1.136126                         47                            13                       3.6          4        10.0                 77                          6.0                                 29.89                0\n",
       "1395           53  2009      2   22                    10         True                0.124438                         56                            15                       9.4          4         4.0                 93                          7.0                                 29.99              133"
      ]
     },
     "execution_count": 24,
     "metadata": {},
     "output_type": "execute_result"
    }
   ],
   "source": [
    "train_data = x_train.merge(y_train, left_index=True, right_index=True)\n",
    "train_data.head(10)"
   ]
  },
  {
   "cell_type": "code",
   "execution_count": 25,
   "id": "8faeebcf",
   "metadata": {},
   "outputs": [
    {
     "data": {
      "text/plain": [
       "(2336, 16)"
      ]
     },
     "execution_count": 25,
     "metadata": {},
     "output_type": "execute_result"
    }
   ],
   "source": [
    "train_data.shape"
   ]
  },
  {
   "cell_type": "code",
   "execution_count": 26,
   "id": "848dbbf3",
   "metadata": {},
   "outputs": [
    {
     "data": {
      "text/html": [
       "<div>\n",
       "<style scoped>\n",
       "    .dataframe tbody tr th:only-of-type {\n",
       "        vertical-align: middle;\n",
       "    }\n",
       "\n",
       "    .dataframe tbody tr th {\n",
       "        vertical-align: top;\n",
       "    }\n",
       "\n",
       "    .dataframe thead th {\n",
       "        text-align: right;\n",
       "    }\n",
       "</style>\n",
       "<table border=\"1\" class=\"dataframe\">\n",
       "  <thead>\n",
       "    <tr style=\"text-align: right;\">\n",
       "      <th></th>\n",
       "      <th>Day of Year</th>\n",
       "      <th>Year</th>\n",
       "      <th>Month</th>\n",
       "      <th>Day</th>\n",
       "      <th>First Hour of Period</th>\n",
       "      <th>Is Daylight</th>\n",
       "      <th>Distance to Solar Noon</th>\n",
       "      <th>Average Temperature (Day)</th>\n",
       "      <th>Average Wind Direction (Day)</th>\n",
       "      <th>Average Wind Speed (Day)</th>\n",
       "      <th>Sky Cover</th>\n",
       "      <th>Visibility</th>\n",
       "      <th>Relative Humidity</th>\n",
       "      <th>Average Wind Speed (Period)</th>\n",
       "      <th>Average Barometric Pressure (Period)</th>\n",
       "      <th>Power Generated</th>\n",
       "    </tr>\n",
       "  </thead>\n",
       "  <tbody>\n",
       "    <tr>\n",
       "      <th>2437</th>\n",
       "      <td>183</td>\n",
       "      <td>2009</td>\n",
       "      <td>7</td>\n",
       "      <td>2</td>\n",
       "      <td>16</td>\n",
       "      <td>True</td>\n",
       "      <td>0.255946</td>\n",
       "      <td>64</td>\n",
       "      <td>29</td>\n",
       "      <td>12.3</td>\n",
       "      <td>1</td>\n",
       "      <td>10.0</td>\n",
       "      <td>59</td>\n",
       "      <td>21.0</td>\n",
       "      <td>29.86</td>\n",
       "      <td>21804</td>\n",
       "    </tr>\n",
       "    <tr>\n",
       "      <th>2470</th>\n",
       "      <td>187</td>\n",
       "      <td>2009</td>\n",
       "      <td>7</td>\n",
       "      <td>6</td>\n",
       "      <td>19</td>\n",
       "      <td>True</td>\n",
       "      <td>0.459705</td>\n",
       "      <td>62</td>\n",
       "      <td>27</td>\n",
       "      <td>15.8</td>\n",
       "      <td>1</td>\n",
       "      <td>10.0</td>\n",
       "      <td>72</td>\n",
       "      <td>18.0</td>\n",
       "      <td>29.97</td>\n",
       "      <td>2065</td>\n",
       "    </tr>\n",
       "    <tr>\n",
       "      <th>2359</th>\n",
       "      <td>173</td>\n",
       "      <td>2009</td>\n",
       "      <td>6</td>\n",
       "      <td>22</td>\n",
       "      <td>22</td>\n",
       "      <td>False</td>\n",
       "      <td>0.662909</td>\n",
       "      <td>67</td>\n",
       "      <td>29</td>\n",
       "      <td>10.7</td>\n",
       "      <td>0</td>\n",
       "      <td>10.0</td>\n",
       "      <td>72</td>\n",
       "      <td>13.0</td>\n",
       "      <td>29.75</td>\n",
       "      <td>0</td>\n",
       "    </tr>\n",
       "    <tr>\n",
       "      <th>789</th>\n",
       "      <td>343</td>\n",
       "      <td>2008</td>\n",
       "      <td>12</td>\n",
       "      <td>8</td>\n",
       "      <td>16</td>\n",
       "      <td>True</td>\n",
       "      <td>0.515571</td>\n",
       "      <td>50</td>\n",
       "      <td>33</td>\n",
       "      <td>4.9</td>\n",
       "      <td>2</td>\n",
       "      <td>10.0</td>\n",
       "      <td>71</td>\n",
       "      <td>0.0</td>\n",
       "      <td>30.07</td>\n",
       "      <td>5654</td>\n",
       "    </tr>\n",
       "    <tr>\n",
       "      <th>1642</th>\n",
       "      <td>84</td>\n",
       "      <td>2009</td>\n",
       "      <td>3</td>\n",
       "      <td>25</td>\n",
       "      <td>7</td>\n",
       "      <td>True</td>\n",
       "      <td>0.425876</td>\n",
       "      <td>55</td>\n",
       "      <td>27</td>\n",
       "      <td>16.1</td>\n",
       "      <td>1</td>\n",
       "      <td>10.0</td>\n",
       "      <td>86</td>\n",
       "      <td>5.0</td>\n",
       "      <td>30.16</td>\n",
       "      <td>3621</td>\n",
       "    </tr>\n",
       "    <tr>\n",
       "      <th>196</th>\n",
       "      <td>269</td>\n",
       "      <td>2008</td>\n",
       "      <td>9</td>\n",
       "      <td>25</td>\n",
       "      <td>13</td>\n",
       "      <td>True</td>\n",
       "      <td>0.081944</td>\n",
       "      <td>67</td>\n",
       "      <td>29</td>\n",
       "      <td>9.3</td>\n",
       "      <td>2</td>\n",
       "      <td>10.0</td>\n",
       "      <td>47</td>\n",
       "      <td>15.0</td>\n",
       "      <td>29.91</td>\n",
       "      <td>27072</td>\n",
       "    </tr>\n",
       "    <tr>\n",
       "      <th>1543</th>\n",
       "      <td>71</td>\n",
       "      <td>2009</td>\n",
       "      <td>3</td>\n",
       "      <td>12</td>\n",
       "      <td>22</td>\n",
       "      <td>False</td>\n",
       "      <td>0.819464</td>\n",
       "      <td>51</td>\n",
       "      <td>28</td>\n",
       "      <td>9.5</td>\n",
       "      <td>1</td>\n",
       "      <td>10.0</td>\n",
       "      <td>86</td>\n",
       "      <td>13.0</td>\n",
       "      <td>30.15</td>\n",
       "      <td>0</td>\n",
       "    </tr>\n",
       "    <tr>\n",
       "      <th>1270</th>\n",
       "      <td>37</td>\n",
       "      <td>2009</td>\n",
       "      <td>2</td>\n",
       "      <td>6</td>\n",
       "      <td>19</td>\n",
       "      <td>True</td>\n",
       "      <td>0.723810</td>\n",
       "      <td>53</td>\n",
       "      <td>13</td>\n",
       "      <td>7.5</td>\n",
       "      <td>4</td>\n",
       "      <td>10.0</td>\n",
       "      <td>86</td>\n",
       "      <td>6.0</td>\n",
       "      <td>29.80</td>\n",
       "      <td>0</td>\n",
       "    </tr>\n",
       "    <tr>\n",
       "      <th>2473</th>\n",
       "      <td>188</td>\n",
       "      <td>2009</td>\n",
       "      <td>7</td>\n",
       "      <td>7</td>\n",
       "      <td>4</td>\n",
       "      <td>True</td>\n",
       "      <td>0.563140</td>\n",
       "      <td>62</td>\n",
       "      <td>27</td>\n",
       "      <td>12.9</td>\n",
       "      <td>4</td>\n",
       "      <td>10.0</td>\n",
       "      <td>80</td>\n",
       "      <td>9.0</td>\n",
       "      <td>29.93</td>\n",
       "      <td>0</td>\n",
       "    </tr>\n",
       "    <tr>\n",
       "      <th>2073</th>\n",
       "      <td>138</td>\n",
       "      <td>2009</td>\n",
       "      <td>5</td>\n",
       "      <td>18</td>\n",
       "      <td>4</td>\n",
       "      <td>True</td>\n",
       "      <td>0.565774</td>\n",
       "      <td>59</td>\n",
       "      <td>29</td>\n",
       "      <td>15.6</td>\n",
       "      <td>2</td>\n",
       "      <td>10.0</td>\n",
       "      <td>90</td>\n",
       "      <td>10.0</td>\n",
       "      <td>29.87</td>\n",
       "      <td>0</td>\n",
       "    </tr>\n",
       "  </tbody>\n",
       "</table>\n",
       "</div>"
      ],
      "text/plain": [
       "      Day of Year  Year  Month  Day  First Hour of Period  Is Daylight  Distance to Solar Noon  Average Temperature (Day)  Average Wind Direction (Day)  Average Wind Speed (Day)  Sky Cover  Visibility  Relative Humidity  Average Wind Speed (Period)  Average Barometric Pressure (Period)  Power Generated\n",
       "2437          183  2009      7    2                    16         True                0.255946                         64                            29                      12.3          1        10.0                 59                         21.0                                 29.86            21804\n",
       "2470          187  2009      7    6                    19         True                0.459705                         62                            27                      15.8          1        10.0                 72                         18.0                                 29.97             2065\n",
       "2359          173  2009      6   22                    22        False                0.662909                         67                            29                      10.7          0        10.0                 72                         13.0                                 29.75                0\n",
       "789           343  2008     12    8                    16         True                0.515571                         50                            33                       4.9          2        10.0                 71                          0.0                                 30.07             5654\n",
       "1642           84  2009      3   25                     7         True                0.425876                         55                            27                      16.1          1        10.0                 86                          5.0                                 30.16             3621\n",
       "196           269  2008      9   25                    13         True                0.081944                         67                            29                       9.3          2        10.0                 47                         15.0                                 29.91            27072\n",
       "1543           71  2009      3   12                    22        False                0.819464                         51                            28                       9.5          1        10.0                 86                         13.0                                 30.15                0\n",
       "1270           37  2009      2    6                    19         True                0.723810                         53                            13                       7.5          4        10.0                 86                          6.0                                 29.80                0\n",
       "2473          188  2009      7    7                     4         True                0.563140                         62                            27                      12.9          4        10.0                 80                          9.0                                 29.93                0\n",
       "2073          138  2009      5   18                     4         True                0.565774                         59                            29                      15.6          2        10.0                 90                         10.0                                 29.87                0"
      ]
     },
     "execution_count": 26,
     "metadata": {},
     "output_type": "execute_result"
    }
   ],
   "source": [
    "test_data = x_test.merge(y_test, left_index=True, right_index=True)\n",
    "test_data.head(10)"
   ]
  },
  {
   "cell_type": "code",
   "execution_count": 27,
   "id": "f59feb36",
   "metadata": {},
   "outputs": [],
   "source": [
    "train_data_path = os.path.join(EXPORT_DIR, 'train_data.csv')\n",
    "test_data_path = os.path.join(EXPORT_DIR, 'test_data.csv')"
   ]
  },
  {
   "cell_type": "code",
   "execution_count": 28,
   "id": "6a8e3f5e",
   "metadata": {},
   "outputs": [
    {
     "name": "stdout",
     "output_type": "stream",
     "text": [
      "data-CLEAN/train_data.csv\n",
      "data-CLEAN/test_data.csv\n"
     ]
    }
   ],
   "source": [
    "print(train_data_path)\n",
    "print(test_data_path)"
   ]
  },
  {
   "cell_type": "code",
   "execution_count": 29,
   "id": "d86cc039",
   "metadata": {},
   "outputs": [],
   "source": [
    "train_data.to_csv(train_data_path, index=False)\n",
    "test_data.to_csv(test_data_path, index=False)"
   ]
  }
 ],
 "metadata": {
  "kernelspec": {
   "display_name": "Python 3",
   "language": "python",
   "name": "python3"
  },
  "language_info": {
   "codemirror_mode": {
    "name": "ipython",
    "version": 3
   },
   "file_extension": ".py",
   "mimetype": "text/x-python",
   "name": "python",
   "nbconvert_exporter": "python",
   "pygments_lexer": "ipython3",
   "version": "3.9.9"
  }
 },
 "nbformat": 4,
 "nbformat_minor": 5
}
