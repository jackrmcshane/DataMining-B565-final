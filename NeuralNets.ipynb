{
 "cells": [
  {
   "cell_type": "code",
   "execution_count": 1,
   "id": "fc61bffd",
   "metadata": {},
   "outputs": [],
   "source": [
    "import util\n",
    "\n",
    "import numpy as np\n",
    "import pandas as pd\n",
    "import tensorflow as tf\n",
    "from tensorflow import keras\n",
    "import matplotlib.pyplot as plt\n",
    "\n",
    "from sklearn.model_selection import train_test_split"
   ]
  },
  {
   "cell_type": "code",
   "execution_count": 2,
   "id": "c8099d34",
   "metadata": {},
   "outputs": [],
   "source": [
    "DATADIR = 'data-PREPROCESSED'"
   ]
  },
  {
   "cell_type": "code",
   "execution_count": 3,
   "id": "3713282a",
   "metadata": {},
   "outputs": [],
   "source": [
    "# code adapted from 'Hands on Machine Learning with Scikit-Learn, Keras & TensorFlow'\n",
    "def WideAndDeepModel(params):\n",
    "    \n",
    "    # defining model structure\n",
    "    input_ = keras.layers.Input(shape=params.input_shape)\n",
    "    hidden1 = keras.layers.Dense(params.n_hid1, activation=params.act)(input_)\n",
    "    hidden2 = keras.layers.Dense(params.n_hid2, activation=params.act)(hidden1)\n",
    "    concat = keras.layers.Concatenate()([input_, hidden2])\n",
    "    output = keras.layers.Dense(params.n_out)(concat)\n",
    "    \n",
    "    return keras.Model(inputs=[input_], outputs=[output])\n",
    "\n",
    "\n",
    "def ANN_Model(params):\n",
    "    model = keras.models.Sequential()\n",
    "    model.add(keras.layers.Dense(params.n_hid1, activation=params.act))\n",
    "    #model.add(keras.layers.Dense(params.n_hid2, activation=params.act))\n",
    "    model.add(keras.layers.Dense(params.n_out))\n",
    "    \n",
    "    return model"
   ]
  },
  {
   "cell_type": "code",
   "execution_count": 4,
   "id": "92aadec6",
   "metadata": {},
   "outputs": [],
   "source": [
    "x_train_full, y_train_full = util.load_training(DATADIR)\n",
    "x_test, y_test = util.load_test(DATADIR)"
   ]
  },
  {
   "cell_type": "code",
   "execution_count": 5,
   "id": "28bbf152",
   "metadata": {},
   "outputs": [],
   "source": [
    "# split training full into training and val\n",
    "x_train, x_val, y_train, y_val = train_test_split(x_train_full, y_train_full, test_size=.2, random_state=42)"
   ]
  },
  {
   "cell_type": "code",
   "execution_count": 6,
   "id": "a539c322",
   "metadata": {},
   "outputs": [
    {
     "name": "stdout",
     "output_type": "stream",
     "text": [
      "(2336, 25) (2336,)\n",
      "(584, 25) (584,)\n",
      "(1868, 25) (1868,)\n",
      "(468, 25) (468,)\n"
     ]
    }
   ],
   "source": [
    "print(x_train_full.shape, y_train_full.shape)\n",
    "print(x_test.shape, y_test.shape)\n",
    "print(x_train.shape, y_train.shape)\n",
    "print(x_val.shape, y_val.shape)"
   ]
  },
  {
   "cell_type": "code",
   "execution_count": 7,
   "id": "61fd23af",
   "metadata": {},
   "outputs": [],
   "source": [
    "# define params\n",
    "class params:\n",
    "    input_shape = None\n",
    "    act = 'relu'\n",
    "    n_hid1 = 10\n",
    "    n_hid2 = 5\n",
    "    n_out = 1\n",
    "    \n",
    "    loss = 'mean_squared_error'\n",
    "    optimizer = 'sgd'\n",
    "    n_epochs = 20"
   ]
  },
  {
   "cell_type": "code",
   "execution_count": 8,
   "id": "ba0c6eaf",
   "metadata": {},
   "outputs": [
    {
     "name": "stdout",
     "output_type": "stream",
     "text": [
      "Epoch 1/20\n",
      "59/59 [==============================] - 0s 2ms/step - loss: 125662216.0000 - val_loss: 117587240.0000\n",
      "Epoch 2/20\n",
      "59/59 [==============================] - 0s 885us/step - loss: 107507160.0000 - val_loss: 111152960.0000\n",
      "Epoch 3/20\n",
      "59/59 [==============================] - 0s 893us/step - loss: 105806312.0000 - val_loss: 110462584.0000\n",
      "Epoch 4/20\n",
      "59/59 [==============================] - 0s 915us/step - loss: 105698648.0000 - val_loss: 110239928.0000\n",
      "Epoch 5/20\n",
      "59/59 [==============================] - 0s 844us/step - loss: 105695312.0000 - val_loss: 110333328.0000\n",
      "Epoch 6/20\n",
      "59/59 [==============================] - 0s 914us/step - loss: 105682984.0000 - val_loss: 110149080.0000\n",
      "Epoch 7/20\n",
      "59/59 [==============================] - 0s 916us/step - loss: 105695728.0000 - val_loss: 110286072.0000\n",
      "Epoch 8/20\n",
      "59/59 [==============================] - 0s 774us/step - loss: 105685424.0000 - val_loss: 110268192.0000\n",
      "Epoch 9/20\n",
      "59/59 [==============================] - 0s 819us/step - loss: 105710264.0000 - val_loss: 110284928.0000\n",
      "Epoch 10/20\n",
      "59/59 [==============================] - 0s 825us/step - loss: 105707744.0000 - val_loss: 110225160.0000\n",
      "Epoch 11/20\n",
      "59/59 [==============================] - 0s 829us/step - loss: 105709816.0000 - val_loss: 110311712.0000\n",
      "Epoch 12/20\n",
      "59/59 [==============================] - 0s 834us/step - loss: 105696568.0000 - val_loss: 110194744.0000\n",
      "Epoch 13/20\n",
      "59/59 [==============================] - 0s 848us/step - loss: 105699824.0000 - val_loss: 110293808.0000\n",
      "Epoch 14/20\n",
      "59/59 [==============================] - 0s 1ms/step - loss: 105713280.0000 - val_loss: 110211480.0000\n",
      "Epoch 15/20\n",
      "59/59 [==============================] - 0s 900us/step - loss: 105675344.0000 - val_loss: 110401272.0000\n",
      "Epoch 16/20\n",
      "59/59 [==============================] - 0s 790us/step - loss: 105698440.0000 - val_loss: 110312104.0000\n",
      "Epoch 17/20\n",
      "59/59 [==============================] - 0s 768us/step - loss: 105698744.0000 - val_loss: 110276152.0000\n",
      "Epoch 18/20\n",
      "59/59 [==============================] - 0s 836us/step - loss: 105689600.0000 - val_loss: 110179480.0000\n",
      "Epoch 19/20\n",
      "59/59 [==============================] - 0s 811us/step - loss: 105696744.0000 - val_loss: 110338192.0000\n",
      "Epoch 20/20\n",
      "59/59 [==============================] - 0s 898us/step - loss: 105678968.0000 - val_loss: 110196712.0000\n",
      "19/19 [==============================] - 0s 497us/step - loss: 105339128.0000\n"
     ]
    }
   ],
   "source": [
    "ann1 = ANN_Model(params)\n",
    "ann1.compile(loss=params.loss, optimizer=params.optimizer)\n",
    "ann1_hist = ann1.fit(x_train, y_train, epochs=params.n_epochs, validation_data=(x_val, y_val))\n",
    "ann1_mse = ann1.evaluate(x_test, y_test)"
   ]
  },
  {
   "cell_type": "code",
   "execution_count": 9,
   "id": "aa85edb1",
   "metadata": {},
   "outputs": [
    {
     "data": {
      "image/png": "[encoded data removed]",
      "text/plain": [
       "<Figure size 576x360 with 1 Axes>"
      ]
     },
     "metadata": {
      "needs_background": "light"
     },
     "output_type": "display_data"
    }
   ],
   "source": [
    "%matplotlib inline\n",
    "pd.DataFrame(ann1_hist.history).plot(figsize=(8, 5))\n",
    "plt.grid(True)\n",
    "plt.show()"
   ]
  }
 ],
 "metadata": {
  "kernelspec": {
   "display_name": "Python 3",
   "language": "python",
   "name": "python3"
  },
  "language_info": {
   "codemirror_mode": {
    "name": "ipython",
    "version": 3
   },
   "file_extension": ".py",
   "mimetype": "text/x-python",
   "name": "python",
   "nbconvert_exporter": "python",
   "pygments_lexer": "ipython3",
   "version": "3.9.9"
  }
 },
 "nbformat": 4,
 "nbformat_minor": 5
}
